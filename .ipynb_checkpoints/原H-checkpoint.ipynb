{
 "cells": [
  {
   "cell_type": "code",
   "execution_count": 1,
   "metadata": {},
   "outputs": [
    {
     "name": "stdout",
     "output_type": "stream",
     "text": [
      "[[-4.93251693e-01-8.69886640e-01j  0.00000000e+00+0.00000000e+00j\n",
      "   3.29470060e-12-1.78455429e-12j  0.00000000e+00+0.00000000e+00j]\n",
      " [ 0.00000000e+00+0.00000000e+00j -4.01103233e-01-9.16032858e-01j\n",
      "   0.00000000e+00+0.00000000e+00j  8.28288475e-13-1.42956956e-13j]\n",
      " [-3.74199232e-12+1.92820028e-13j  0.00000000e+00+0.00000000e+00j\n",
      "   3.20589102e-02+9.99485981e-01j  0.00000000e+00+0.00000000e+00j]\n",
      " [ 0.00000000e+00+0.00000000e+00j -8.09176740e-13-2.27445581e-13j\n",
      "   0.00000000e+00+0.00000000e+00j -4.93251693e-01+8.69886640e-01j]]\n"
     ]
    }
   ],
   "source": [
    "import numpy as np\n",
    "import scipy\n",
    "import cmath\n",
    "from scipy.linalg import expm\n",
    "import math\n",
    "\n",
    "E = 39.33*pow(10,9) #from supp equation (2)\n",
    "W = 410000          #omega\n",
    "d = 13260000\n",
    "j = 1590000\n",
    "f = E + d*0.5 - j*0.5\n",
    "\n",
    "u1=np.identity(4)\n",
    "u2=np.identity(4)\n",
    "T = 0.000304      #set T\n",
    "for t in np.linspace(0,T,1000001):\n",
    "    B = W*cmath.exp(1j*f*t)\n",
    "    h1 = 0.5*np.array([[2*E,0,B,0],[0,d-j,0,B],[np.conjugate(B),0,-d-j,0],[0,np.conjugate(B),0,-2*E]])\n",
    "    u1 = scipy.linalg.expm(-(1j)*h1*t*0.000001)@u1\n",
    "    \n",
    "print(u1) "
   ]
  }
 ],
 "metadata": {
  "kernelspec": {
   "display_name": "Python 3",
   "language": "python",
   "name": "python3"
  },
  "language_info": {
   "codemirror_mode": {
    "name": "ipython",
    "version": 3
   },
   "file_extension": ".py",
   "mimetype": "text/x-python",
   "name": "python",
   "nbconvert_exporter": "python",
   "pygments_lexer": "ipython3",
   "version": "3.7.1"
  }
 },
 "nbformat": 4,
 "nbformat_minor": 2
}
